{
 "cells": [
  {
   "cell_type": "markdown",
   "id": "d0f3aa6e",
   "metadata": {},
   "source": [
    "1.\tНаписать функцию, которая для любой квадратной матрицы вычисляет абсолютную разность между суммами элементов ее диагоналей. Входные данные – двумерный массив, каждый элемент которого представлен целым числом, выход – число, абсолютная разность. Если среди чисел на диагонали алгоритму попадается отрицательное число, то выполнение должно быть прервано и возбуждено исключение с текстом, описывающим произошедшее."
   ]
  },
  {
   "cell_type": "code",
   "execution_count": 223,
   "id": "942d81d7",
   "metadata": {},
   "outputs": [],
   "source": [
    "import numpy as np\n",
    "\n",
    "\n",
    "def matrix_diag_diff(arr: list) -> int:\n",
    "    \"\"\"\n",
    "    вычисление абсолютной разности между суммами элементов диагоналей квадратичной матрицы\n",
    "    \n",
    "    params\n",
    "    ------\n",
    "    arr : list\n",
    "        квадратичная матрица, двумерный массив целых чисел\n",
    "        \n",
    "    returns\n",
    "    ------\n",
    "    int : абсолютная разность\n",
    "    \"\"\"\n",
    "    prim_diag = arr.diagonal()  # главная диагональ\n",
    "    # матрица переворачивается, берется главная диагональ в обратном порядке для сохранения индексов\n",
    "    sec_diag = np.fliplr(arr).diagonal()[::-1]  # побочная диагональ\n",
    "    \n",
    "    for i in range(len(prim_diag)):\n",
    "        if prim_diag[i] < 0:\n",
    "            raise Exception(f'Элемент ({i},{i}) равный {prim_diag[i]} отрицательный')\n",
    "        if sec_diag[i] < 0:\n",
    "            raise Exception(f'Элемент ({len(prim_diag) - i - 1}, {i}) равный {sec_diag[i]} отрицательный')\n",
    "    return np.abs(np.sum(prim_diag) - np.sum(sec_diag))"
   ]
  },
  {
   "cell_type": "code",
   "execution_count": 234,
   "id": "b6b07cea",
   "metadata": {},
   "outputs": [
    {
     "name": "stdout",
     "output_type": "stream",
     "text": [
      "----------------------------------------------------------\n",
      "Входная матрица:\n",
      "[[120  27  72 127  20]\n",
      " [ 51 139  77  29  88]\n",
      " [101 105 105  52  91]\n",
      " [ 16  94  58 109 118]\n",
      " [148 107 147  83  99]]\n",
      "\n",
      "Вывод функции:\n",
      "176\n",
      "----------------------------------------------------------\n",
      "Входная матрица:\n",
      "[[ 92  77 129]\n",
      " [147  13  48]\n",
      " [ 64 108 115]]\n",
      "\n",
      "Вывод функции:\n",
      "14\n",
      "----------------------------------------------------------\n",
      "Входная матрица:\n",
      "[[29  9]\n",
      " [ 3 34]]\n",
      "\n",
      "Вывод функции:\n",
      "51\n",
      "----------------------------------------------------------\n",
      "Входная матрица:\n",
      "[[103  52 122  91 110 124   1  58]\n",
      " [135 132 110  66   6  25 132  86]\n",
      " [ 21  89  71 118  80  60  47 145]\n",
      " [113 100  37   6  44 131  73  20]\n",
      " [127  54 145  78  56  75 124  20]\n",
      " [149  76 147  74  77  44 101 124]\n",
      " [ 38  50   8  29  57 113  18  76]\n",
      " [101 107  82  87  86  28 129 144]]\n",
      "\n",
      "Вывод функции:\n",
      "96\n",
      "----------------------------------------------------------\n",
      "Входная матрица:\n",
      "[[ 54  79  68  47  91 143  54 120]\n",
      " [ 83 136  46  92  81  -2  51  83]\n",
      " [140 113  -3 109 121 102 138  21]\n",
      " [ 97 127 106 130  68 134  10  -4]\n",
      " [ 51  47  11  41  55  28  63  97]\n",
      " [ 17  61  16   0 137  15 115 132]\n",
      " [119  36 118  74  67  11  21 114]\n",
      " [ 17   3  96  -2  92  26 107  84]]\n",
      "\n",
      "Вывод функции:\n"
     ]
    },
    {
     "ename": "Exception",
     "evalue": "Элемент (2,2) равный -3 отрицательный",
     "output_type": "error",
     "traceback": [
      "\u001b[1;31m---------------------------------------------------------------------------\u001b[0m",
      "\u001b[1;31mException\u001b[0m                                 Traceback (most recent call last)",
      "Input \u001b[1;32mIn [234]\u001b[0m, in \u001b[0;36m<cell line: 1>\u001b[1;34m()\u001b[0m\n\u001b[0;32m      5\u001b[0m \u001b[38;5;28mprint\u001b[39m(arr)\n\u001b[0;32m      6\u001b[0m \u001b[38;5;28mprint\u001b[39m(\u001b[38;5;124m'\u001b[39m\u001b[38;5;130;01m\\n\u001b[39;00m\u001b[38;5;124mВывод функции:\u001b[39m\u001b[38;5;124m'\u001b[39m)\n\u001b[1;32m----> 7\u001b[0m \u001b[38;5;28mprint\u001b[39m(\u001b[43mmatrix_diag_diff\u001b[49m\u001b[43m(\u001b[49m\u001b[43marr\u001b[49m\u001b[43m)\u001b[49m)\n",
      "Input \u001b[1;32mIn [223]\u001b[0m, in \u001b[0;36mmatrix_diag_diff\u001b[1;34m(arr)\u001b[0m\n\u001b[0;32m     21\u001b[0m \u001b[38;5;28;01mfor\u001b[39;00m i \u001b[38;5;129;01min\u001b[39;00m \u001b[38;5;28mrange\u001b[39m(\u001b[38;5;28mlen\u001b[39m(prim_diag)):\n\u001b[0;32m     22\u001b[0m     \u001b[38;5;28;01mif\u001b[39;00m prim_diag[i] \u001b[38;5;241m<\u001b[39m \u001b[38;5;241m0\u001b[39m:\n\u001b[1;32m---> 23\u001b[0m         \u001b[38;5;28;01mraise\u001b[39;00m \u001b[38;5;167;01mException\u001b[39;00m(\u001b[38;5;124mf\u001b[39m\u001b[38;5;124m'\u001b[39m\u001b[38;5;124mЭлемент (\u001b[39m\u001b[38;5;132;01m{\u001b[39;00mi\u001b[38;5;132;01m}\u001b[39;00m\u001b[38;5;124m,\u001b[39m\u001b[38;5;132;01m{\u001b[39;00mi\u001b[38;5;132;01m}\u001b[39;00m\u001b[38;5;124m) равный \u001b[39m\u001b[38;5;132;01m{\u001b[39;00mprim_diag[i]\u001b[38;5;132;01m}\u001b[39;00m\u001b[38;5;124m отрицательный\u001b[39m\u001b[38;5;124m'\u001b[39m)\n\u001b[0;32m     24\u001b[0m     \u001b[38;5;28;01mif\u001b[39;00m sec_diag[i] \u001b[38;5;241m<\u001b[39m \u001b[38;5;241m0\u001b[39m:\n\u001b[0;32m     25\u001b[0m         \u001b[38;5;28;01mraise\u001b[39;00m \u001b[38;5;167;01mException\u001b[39;00m(\u001b[38;5;124mf\u001b[39m\u001b[38;5;124m'\u001b[39m\u001b[38;5;124mЭлемент (\u001b[39m\u001b[38;5;132;01m{\u001b[39;00m\u001b[38;5;28mlen\u001b[39m(prim_diag) \u001b[38;5;241m-\u001b[39m i \u001b[38;5;241m-\u001b[39m \u001b[38;5;241m1\u001b[39m\u001b[38;5;132;01m}\u001b[39;00m\u001b[38;5;124m, \u001b[39m\u001b[38;5;132;01m{\u001b[39;00mi\u001b[38;5;132;01m}\u001b[39;00m\u001b[38;5;124m) равный \u001b[39m\u001b[38;5;132;01m{\u001b[39;00msec_diag[i]\u001b[38;5;132;01m}\u001b[39;00m\u001b[38;5;124m отрицательный\u001b[39m\u001b[38;5;124m'\u001b[39m)\n",
      "\u001b[1;31mException\u001b[0m: Элемент (2,2) равный -3 отрицательный"
     ]
    }
   ],
   "source": [
    "for i in range(5):\n",
    "    print('----------------------------------------------------------\\nВходная матрица:')\n",
    "    size = np.random.randint(2, 10)\n",
    "    arr = np.random.randint(-5, 150, size=(size, size))\n",
    "    print(arr)\n",
    "    print('\\nВывод функции:')\n",
    "    print(matrix_diag_diff(arr))"
   ]
  },
  {
   "cell_type": "markdown",
   "id": "329707ca",
   "metadata": {},
   "source": [
    "2.\tа) Написать класс, который включает в себя метод, выполняющий запрос к базе данных и возвращающий результат запроса, адрес базы данных будет являться атрибутом класса\n",
    "б) Класс должен реализовывать шаблон «Синглтон», т.е. иметь только один экземпляр\n",
    "в) Применить к методу класса, выполняющему запрос, декоратор, который подсчитывает и выводит время исполнения метода\n",
    "г) Реализовать атомарность операции запроса\n",
    "д) Реализовать кеширование возвращаемых значений\n"
   ]
  },
  {
   "cell_type": "code",
   "execution_count": 9,
   "id": "f292c123",
   "metadata": {},
   "outputs": [],
   "source": [
    "import sqlite3  # операции с бд\n",
    "from datetime import datetime\n",
    "from functools import lru_cache  # кеширование\n",
    "\n",
    "\n",
    "def execution_time(func):\n",
    "    \"\"\"\n",
    "    декоратор для подсчета времени выполнения функции\n",
    "    \"\"\"\n",
    "    def wrapper(*args, **kwargs):\n",
    "        start = datetime.now()\n",
    "        func_return = func(*args, **kwargs)\n",
    "        finish = datetime.now()\n",
    "        print(f'Время выполнения {finish - start}')\n",
    "        return func_return\n",
    "    return wrapper\n",
    "\n",
    "\n",
    "class DBManager:\n",
    "    \"\"\"\n",
    "    синглтон класс для выполнения подключения, запросов к базе данных\n",
    "    \"\"\"\n",
    "    __instance__ = None  # при первом вызове у класса нет экземпляра\n",
    "    db_path = r'D:\\DB\\database.db'  # путь к локальному расположению базы данных\n",
    "    \n",
    "    \n",
    "    def __init__(self): \n",
    "        if DBManager.__instance__ is None: \n",
    "            DBManager.__instance__ = self \n",
    "        else: \n",
    "            raise Exception('Класс может иметь только один экземпляр') \n",
    "\n",
    "            \n",
    "    @staticmethod        \n",
    "    def get_instance(): \n",
    "        if not DBManager.__instance__: \n",
    "            DBManager() \n",
    "        return DBManager.__instance__ \n",
    "\n",
    "    \n",
    "    @execution_time\n",
    "    @lru_cache(maxsize=16)  # размер кеша maxsize указан для ускорения работы тк вызовов может быть много\n",
    "    def execute_request(self, request):\n",
    "        \"\"\"\n",
    "        выполнение запроса к базе данных\n",
    "        \n",
    "        params\n",
    "        ------\n",
    "        request : str\n",
    "            текст запроса, синтаксис SQLite\n",
    "        \n",
    "        returns\n",
    "        -------\n",
    "        list of tuples\n",
    "            строки из базы данных, соответсвующие запросу\n",
    "        \"\"\"\n",
    "        try:\n",
    "            con = sqlite3.connect(self.db_path)\n",
    "            self.cur = con.cursor()\n",
    "        except:\n",
    "             raise Exception('Не удалось установить подключение к базе данных') \n",
    "        \n",
    "        self.cur.execute(request)\n",
    "        con.commit()\n",
    "        if self.cur is None:\n",
    "             raise Exception('Не удалось извлечь строки из базы данных')\n",
    "        else:\n",
    "            return self.cur.fetchall()"
   ]
  },
  {
   "cell_type": "code",
   "execution_count": 10,
   "id": "9315713d",
   "metadata": {},
   "outputs": [],
   "source": [
    "db = DBManager()"
   ]
  },
  {
   "cell_type": "code",
   "execution_count": 11,
   "id": "ae2cfce9",
   "metadata": {},
   "outputs": [
    {
     "data": {
      "text/plain": [
       "<__main__.DBManager at 0x10d343fd3d0>"
      ]
     },
     "execution_count": 11,
     "metadata": {},
     "output_type": "execute_result"
    }
   ],
   "source": [
    "db"
   ]
  },
  {
   "cell_type": "code",
   "execution_count": 17,
   "id": "ac2fc830",
   "metadata": {},
   "outputs": [
    {
     "data": {
      "text/plain": [
       "<sqlite3.Cursor at 0x10d343e8c70>"
      ]
     },
     "execution_count": 17,
     "metadata": {},
     "output_type": "execute_result"
    }
   ],
   "source": [
    "db.cur"
   ]
  },
  {
   "cell_type": "code",
   "execution_count": 12,
   "id": "e2b2cfb8",
   "metadata": {},
   "outputs": [
    {
     "name": "stdout",
     "output_type": "stream",
     "text": [
      "Время выполнения 0:01:29.111256\n"
     ]
    }
   ],
   "source": [
    "sql = f'''\n",
    "        select *\n",
    "        from ind\n",
    "        order by random()\n",
    "        limit 1\n",
    "      '''\n",
    "rows10 = db.execute_request(sql)"
   ]
  },
  {
   "cell_type": "code",
   "execution_count": 13,
   "id": "9827b897",
   "metadata": {},
   "outputs": [
    {
     "name": "stdout",
     "output_type": "stream",
     "text": [
      "Время выполнения 0:00:00\n"
     ]
    }
   ],
   "source": [
    "rows10_2 = db.execute_request(sql)"
   ]
  },
  {
   "cell_type": "code",
   "execution_count": null,
   "id": "d53a8e9f",
   "metadata": {},
   "outputs": [],
   "source": []
  }
 ],
 "metadata": {
  "kernelspec": {
   "display_name": "Python 3 (ipykernel)",
   "language": "python",
   "name": "python3"
  },
  "language_info": {
   "codemirror_mode": {
    "name": "ipython",
    "version": 3
   },
   "file_extension": ".py",
   "mimetype": "text/x-python",
   "name": "python",
   "nbconvert_exporter": "python",
   "pygments_lexer": "ipython3",
   "version": "3.9.12"
  }
 },
 "nbformat": 4,
 "nbformat_minor": 5
}
